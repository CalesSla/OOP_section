{
 "cells": [
  {
   "cell_type": "code",
   "execution_count": null,
   "metadata": {},
   "outputs": [],
   "source": [
    "from datetime import datetime, timezone, timedelta\n",
    "import numbers\n",
    "\n",
    "\n",
    "\n",
    "class TimeZone:\n",
    "    def __init__(self, name, offset_hours, offset_minutes):\n",
    "        if name is None or len(str(name).strip()) == 0:\n",
    "            raise ValueError(\"Timezone name cannot be empty.\")\n",
    "        self._name = str(name).strip()\n",
    "\n",
    "        if not isinstance(offset_hours, numbers.Integral):\n",
    "            raise ValueError(\"Hour offset must be an integer\")\n",
    "        \n",
    "        if not isinstance(offset_minutes, numbers.Integral):\n",
    "            raise ValueError(\"Minute offset must be an integer.\")\n",
    "\n",
    "        if offset_minutes > 59 or offset_minutes < -59:\n",
    "            raise ValueError(\"Minutes offset must be between -59 and 59 (inclusive).\")\n",
    "        \n",
    "        offset = timedelta(hours=offset_hours, minutes=offset_minutes)\n",
    "        if offset < timedelta(hours=-12, minutes=0) or offset > timedelta(hours=14, minutes=0):\n",
    "            raise ValueError(\"Offset must be between -12:00 and +14:00.\")\n",
    "        \n",
    "        self._offset_hours = offset_hours\n",
    "        self._offset_minutes = offset_minutes\n",
    "        self._offset = offset\n",
    "\n",
    "    @property\n",
    "    def offset(self):\n",
    "        return self._offset\n",
    "\n",
    "    @property\n",
    "    def name(self):\n",
    "        return self._name\n",
    "\n",
    "    def __eq__(self, other):\n",
    "        return(isinstance(other, TimeZone) and \n",
    "                self.name == other.name and \n",
    "                self._offset_hours == other._offset_hours and\n",
    "                self._offset_minutes == other._offset_minutes)\n",
    "\n",
    "    def __repr__(self):\n",
    "        return (f\"TimeZone(name='{self._name}' \"\n",
    "                f\"offset_hours={self._offset_hours}, \"\n",
    "                f\"offset_minutes={self._offset_minutes})\")\n",
    "\n",
    "\n",
    "tz1 = TimeZone(\"ABC\", -2, -15)"
   ]
  },
  {
   "cell_type": "code",
   "execution_count": 2,
   "metadata": {},
   "outputs": [
    {
     "data": {
      "text/plain": [
       "datetime.timedelta(days=-1, seconds=78300)"
      ]
     },
     "execution_count": 2,
     "metadata": {},
     "output_type": "execute_result"
    }
   ],
   "source": [
    "tz1.offset"
   ]
  },
  {
   "cell_type": "code",
   "execution_count": 90,
   "metadata": {},
   "outputs": [
    {
     "data": {
      "text/plain": [
       "Account Number: 123\n",
       "First Name: Slava\n",
       "Last Name: Calestru\n",
       "Timezone: TimeZone(name='ABC' offset_hours=1, offset_minutes=10)\n",
       "Balance: $0"
      ]
     },
     "execution_count": 90,
     "metadata": {},
     "output_type": "execute_result"
    }
   ],
   "source": [
    "class Account:\n",
    "\n",
    "    _interest_rate = 0.05\n",
    "    transaction_num = 0\n",
    "    account_nums = []\n",
    "    \n",
    "    def __init__(self, account_num, first_name, last_name, tz_name=\"Default\", tz_offset_hours=0, tz_offset_minutes=0):\n",
    "        if not isinstance(account_num, numbers.Integral):\n",
    "            raise ValueError(\"Account number must be an integer.\")\n",
    "        # global account_nums\n",
    "        # if account_num in account_nums:\n",
    "        #     raise ValueError(f\"The account with number {account_num} already exists.\")\n",
    "        self._account_num = account_num\n",
    "        # account_nums.append(account_num)\n",
    "\n",
    "        if not isinstance(first_name, str) or len(str(first_name).strip()) == 0:\n",
    "            raise ValueError(\"Please provide a valid first name.\")\n",
    "        self._first_name = first_name\n",
    "\n",
    "        if not isinstance(last_name, str)or len(str(last_name).strip()) == 0:\n",
    "            raise ValueError(\"Please provide a valid last name.\")\n",
    "        self._last_name = last_name\n",
    "        \n",
    "        self._time_zone = TimeZone(tz_name, tz_offset_hours, tz_offset_minutes)\n",
    "\n",
    "        self._balance = 0\n",
    "\n",
    "    @property\n",
    "    def account_num(self):\n",
    "        return self._account_num\n",
    "    \n",
    "    @property\n",
    "    def first_name(self):\n",
    "        return self._first_name\n",
    "    \n",
    "    @property\n",
    "    def last_name(self):\n",
    "        return self._last_name\n",
    "\n",
    "    @property\n",
    "    def full_name(self):\n",
    "        return f\"{self._first_name} {self._last_name}\"\n",
    "    \n",
    "    @property\n",
    "    def time_zone(self):\n",
    "        return self._time_zone\n",
    "    \n",
    "    @property\n",
    "    def balance(self):\n",
    "        return self._balance\n",
    "    \n",
    "    @first_name.setter\n",
    "    def first_name(self, new_first_name):\n",
    "        if not isinstance(new_first_name, str) or len(str(new_first_name).strip()) == 0:\n",
    "            raise ValueError(\"Please provide a valid first name.\")\n",
    "        old_first_name = self.first_name\n",
    "        self._first_name = new_first_name\n",
    "        print(f\"Successfully changed First Name from: {old_first_name} to {self.first_name}\")\n",
    "\n",
    "    @last_name.setter\n",
    "    def last_name(self, new_last_name):\n",
    "        if not isinstance(new_last_name, str) or len(str(new_last_name).strip()) == 0:\n",
    "            raise ValueError(\"Please provide a valid last name.\")\n",
    "        old_last_name = self.last_name\n",
    "        self._last_name = new_last_name\n",
    "        print(f\"Successfully changed Last Name from: {old_last_name} to {self.last_name}\")\n",
    "    \n",
    "    @time_zone.setter\n",
    "    def time_zone(self, param_tuple):\n",
    "        tz_name, tz_offset_hours, tz_offset_minutes = param_tuple\n",
    "        self._time_zone = TimeZone(tz_name, tz_offset_hours, tz_offset_minutes)\n",
    "        print(f\"Successfully changed the timezone to the following: {self.time_zone}\")\n",
    "\n",
    "\n",
    "    @classmethod\n",
    "    def get_interest_rate(cls):\n",
    "        return cls._interest_rate\n",
    "    \n",
    "    @classmethod\n",
    "    def set_interest_rate(cls, new_interest_rate):\n",
    "        cls._interest_rate = new_interest_rate\n",
    "        print(f\"Successfully updated interest rate to {new_interest_rate}\")\n",
    "    \n",
    "\n",
    "    def generate_transaction(self):\n",
    "        transaction_datetime = datetime.now(timezone.utc)\n",
    "        cur_transaction = Account.transaction_num\n",
    "        Account.transaction_num += 1\n",
    "        return transaction_datetime, cur_transaction\n",
    "\n",
    "\n",
    "    def return_transaction_info(self, transaction_datetime, cur_transaction, transact_status):\n",
    "        return (f\"{transact_status}-\"\n",
    "                f\"{self.account_num}-\"\n",
    "                f\"{transaction_datetime.strftime('%Y')}\"\n",
    "                f\"{transaction_datetime.strftime('%m')}\"\n",
    "                f\"{transaction_datetime.strftime('%d')}\"\n",
    "                f\"{transaction_datetime.strftime('%H')}\"\n",
    "                f\"{transaction_datetime.strftime('%M')}\"\n",
    "                f\"{transaction_datetime.strftime('%S')}-\"\n",
    "                f\"{cur_transaction}\")\n",
    "\n",
    "\n",
    "    def deposit(self, deposit_value):\n",
    "        transaction_datetime, cur_transaction = self.generate_transaction()\n",
    "        if not isinstance(deposit_value, (int, float)):\n",
    "            try:\n",
    "                raise ValueError(\"Please provide a valid amount.\")\n",
    "            except ValueError as e:\n",
    "                print(f\"{e}\")\n",
    "                return self.return_transaction_info(transaction_datetime, cur_transaction, \"X\")\n",
    "        \n",
    "        self._balance = self._balance + deposit_value\n",
    "        print(f\"Successfully deposited ${deposit_value}\")\n",
    "        return self.return_transaction_info(transaction_datetime, cur_transaction, \"D\")\n",
    "\n",
    "\n",
    "    def withdraw(self, withdrawal_value):\n",
    "        transaction_datetime, cur_transaction = self.generate_transaction()\n",
    "        try:\n",
    "            if not isinstance(withdrawal_value, (int, float)):\n",
    "                raise ValueError(\"Please provide a valid amount.\")\n",
    "            if self.balance - withdrawal_value < 0: \n",
    "                raise ValueError(f\"Not enough money on your balance to withdraw {withdrawal_value}\\nCurrent balance: {self.balance}\")\n",
    "            \n",
    "        except ValueError as e:\n",
    "            print(f\"{e}\")\n",
    "            return self.return_transaction_info(transaction_datetime, cur_transaction, \"X\")\n",
    "        self._balance = self._balance - withdrawal_value\n",
    "        print(f\"Successfully withdrawn {withdrawal_value}\")\n",
    "        return self.return_transaction_info(transaction_datetime, cur_transaction, \"W\")\n",
    "    \n",
    "\n",
    "    def add_interest_rate(self):\n",
    "        interest_amount = self.balance * Account.interest_rate()\n",
    "        print(f\"The amount of interest is: {interest_amount}\")\n",
    "        transaction_datetime, cur_transaction = self.generate_transaction()\n",
    "        self.deposit(interest_amount)\n",
    "        return self.return_transaction_info(transaction_datetime, cur_transaction, \"I\")\n",
    "    \n",
    "\n",
    "    @classmethod\n",
    "    def decode_conf_number(cls, conf_number, tz_info=None):\n",
    "        transaction_code, account_number, datetime_string, transaction_number = conf_number.split(\"-\")\n",
    "        year = int(datetime_string[:4])\n",
    "        month = int(datetime_string[4:6])\n",
    "        day = int(datetime_string[6:8])\n",
    "        hour = int(datetime_string[8:10])\n",
    "        minute = int(datetime_string[10:12])\n",
    "        second = int(datetime_string[12:14])\n",
    "\n",
    "        transaction_datetime_utc = datetime(year=year,\n",
    "                                            month=month,\n",
    "                                            day=day,\n",
    "                                            hour=hour,\n",
    "                                            minute=minute,\n",
    "                                            second=second,\n",
    "                                            tzinfo=timezone.utc)\n",
    "        \n",
    "        if tz_info is not None:\n",
    "            transaction_datetime = transaction_datetime_utc.astimezone(timezone(tz_info.offset, tz_info.name))\n",
    "        else:\n",
    "            transaction_datetime = transaction_datetime_utc\n",
    "\n",
    "        transaction_datetime_utc_string = transaction_datetime_utc.strftime(\"%Y-%m-%d %H:%M:%S\")\n",
    "        transaction_datetime_string = transaction_datetime.strftime(\"%Y-%m-%d %H:%M:%S\") + f\" ({tz_info.name})\"\n",
    "        \n",
    "        return {\"transaction_code\": transaction_code,\n",
    "                \"account_number\": account_number,\n",
    "                \"transaction_datetime\":  transaction_datetime_string,\n",
    "                \"transaction_datetime_utc\": transaction_datetime_utc_string,\n",
    "                \"transaction_number\": transaction_number}\n",
    "        \n",
    "\n",
    "    def __repr__(self):\n",
    "        return (f\"Account Number: {self.account_num}\\n\"\n",
    "                f\"First Name: {self.first_name}\\n\"\n",
    "                f\"Last Name: {self.last_name}\\n\"\n",
    "                f\"Timezone: {self.time_zone}\\n\"\n",
    "                f\"Balance: ${self.balance}\")\n",
    "\n",
    "\n",
    "my_acc = Account(account_num=123, \n",
    "                 first_name=\"Slava\", \n",
    "                 last_name=\"Calestru\", \n",
    "                 tz_name=\"ABC\",\n",
    "                 tz_offset_hours=1,\n",
    "                 tz_offset_minutes=10)\n",
    "\n",
    "\n",
    "my_acc"
   ]
  },
  {
   "cell_type": "code",
   "execution_count": 93,
   "metadata": {},
   "outputs": [
    {
     "name": "stdout",
     "output_type": "stream",
     "text": [
      "Successfully deposited $100\n"
     ]
    },
    {
     "data": {
      "text/plain": [
       "'D-123-20250303120951-2'"
      ]
     },
     "execution_count": 93,
     "metadata": {},
     "output_type": "execute_result"
    }
   ],
   "source": [
    "my_acc.deposit(100)"
   ]
  },
  {
   "cell_type": "code",
   "execution_count": 89,
   "metadata": {},
   "outputs": [
    {
     "data": {
      "text/plain": [
       "{'transaction_code': 'D',\n",
       " 'account_number': '123',\n",
       " 'transaction_datetime': '2025-03-03 12:25:34 (ABC)',\n",
       " 'transaction_datetime_utc': '2025-03-03 11:15:34',\n",
       " 'transaction_number': '6'}"
      ]
     },
     "execution_count": 89,
     "metadata": {},
     "output_type": "execute_result"
    }
   ],
   "source": [
    "Account.decode_conf_number('D-123-20250303111534-6', my_acc.time_zone)"
   ]
  },
  {
   "cell_type": "code",
   "execution_count": 86,
   "metadata": {},
   "outputs": [
    {
     "name": "stdout",
     "output_type": "stream",
     "text": [
      "Successfully updated interest rate to 0.1\n"
     ]
    }
   ],
   "source": [
    "Account.set_interest_rate(0.1)"
   ]
  },
  {
   "cell_type": "code",
   "execution_count": 87,
   "metadata": {},
   "outputs": [
    {
     "data": {
      "text/plain": [
       "0.1"
      ]
     },
     "execution_count": 87,
     "metadata": {},
     "output_type": "execute_result"
    }
   ],
   "source": [
    "my_acc.get_interest_rate()"
   ]
  },
  {
   "cell_type": "code",
   "execution_count": 68,
   "metadata": {},
   "outputs": [
    {
     "name": "stdout",
     "output_type": "stream",
     "text": [
      "The amount of interest is: 0.0\n",
      "Successfully deposited $0.0\n"
     ]
    },
    {
     "data": {
      "text/plain": [
       "'I-123-20250303113406-28'"
      ]
     },
     "execution_count": 68,
     "metadata": {},
     "output_type": "execute_result"
    }
   ],
   "source": [
    "my_acc.add_interest_rate()"
   ]
  },
  {
   "cell_type": "code",
   "execution_count": 50,
   "metadata": {},
   "outputs": [
    {
     "data": {
      "text/plain": [
       "Account Number: 123\n",
       "First Name: Slava\n",
       "Last Name: Calestru\n",
       "Timezone: TimeZone(name='ABC' offset_hours=1, offset_minutes=0)\n",
       "Balance: $107.625"
      ]
     },
     "execution_count": 50,
     "metadata": {},
     "output_type": "execute_result"
    }
   ],
   "source": [
    "my_acc"
   ]
  },
  {
   "cell_type": "code",
   "execution_count": 51,
   "metadata": {},
   "outputs": [
    {
     "name": "stdout",
     "output_type": "stream",
     "text": [
      "Not enough money on your balance to withdraw 1000\n",
      "Current balance: 107.625\n"
     ]
    },
    {
     "data": {
      "text/plain": [
       "'X-123-20250303112809-26'"
      ]
     },
     "execution_count": 51,
     "metadata": {},
     "output_type": "execute_result"
    }
   ],
   "source": [
    "my_acc.withdraw(1000)"
   ]
  },
  {
   "cell_type": "code",
   "execution_count": null,
   "metadata": {},
   "outputs": [],
   "source": []
  },
  {
   "cell_type": "code",
   "execution_count": null,
   "metadata": {},
   "outputs": [],
   "source": []
  },
  {
   "cell_type": "code",
   "execution_count": 52,
   "metadata": {},
   "outputs": [
    {
     "data": {
      "text/plain": [
       "{'transaction_status': 'D',\n",
       " 'account_number': '123',\n",
       " 'transaction_datetime': datetime.datetime(2025, 3, 3, 12, 15, 34, tzinfo=datetime.timezone(datetime.timedelta(seconds=3600), 'ABC')),\n",
       " 'transaction_datetime_utc': datetime.datetime(2025, 3, 3, 11, 15, 34, tzinfo=datetime.timezone.utc),\n",
       " 'transaction_number': '6'}"
      ]
     },
     "execution_count": 52,
     "metadata": {},
     "output_type": "execute_result"
    }
   ],
   "source": []
  },
  {
   "cell_type": "code",
   "execution_count": 79,
   "metadata": {},
   "outputs": [
    {
     "data": {
      "text/plain": [
       "0.05"
      ]
     },
     "execution_count": 79,
     "metadata": {},
     "output_type": "execute_result"
    }
   ],
   "source": [
    "Account.interest_rate()"
   ]
  },
  {
   "cell_type": "code",
   "execution_count": null,
   "metadata": {},
   "outputs": [],
   "source": []
  }
 ],
 "metadata": {
  "kernelspec": {
   "display_name": "llms",
   "language": "python",
   "name": "python3"
  },
  "language_info": {
   "codemirror_mode": {
    "name": "ipython",
    "version": 3
   },
   "file_extension": ".py",
   "mimetype": "text/x-python",
   "name": "python",
   "nbconvert_exporter": "python",
   "pygments_lexer": "ipython3",
   "version": "3.11.11"
  }
 },
 "nbformat": 4,
 "nbformat_minor": 2
}
