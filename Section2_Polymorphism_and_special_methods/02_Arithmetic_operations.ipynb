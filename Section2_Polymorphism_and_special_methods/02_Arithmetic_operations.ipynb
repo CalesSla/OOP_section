{
 "cells": [
  {
   "cell_type": "code",
   "execution_count": 17,
   "metadata": {},
   "outputs": [
    {
     "data": {
      "text/plain": [
       "(2, 4)"
      ]
     },
     "execution_count": 17,
     "metadata": {},
     "output_type": "execute_result"
    }
   ],
   "source": [
    "from numbers import Real\n",
    "\n",
    "class Vector:\n",
    "    def __init__(self, *components):\n",
    "        if len(components) < 1:\n",
    "            raise ValueError(\"Cannot create an empty Vector.\")\n",
    "        for component in components:\n",
    "            if not isinstance(component, Real):\n",
    "                raise ValueError(f\"Vector component must be all real numbers. {component} is invalid.\")\n",
    "\n",
    "        self._components = tuple(components)\n",
    "\n",
    "    def __len__(self):\n",
    "        return len(self._components)\n",
    "\n",
    "    @property\n",
    "    def components(self):\n",
    "        return self._components\n",
    "\n",
    "    def __repr__(self):\n",
    "        return f\"Vector{self.components}\"\n",
    "\n",
    "\n",
    "v1 = Vector(1, 2)\n",
    "v2 = Vector(10, 20, 30, 40)\n",
    "\n",
    "len(v1), len(v2)"
   ]
  },
  {
   "cell_type": "code",
   "execution_count": 18,
   "metadata": {},
   "outputs": [
    {
     "data": {
      "text/plain": [
       "Vector(1, 2)"
      ]
     },
     "execution_count": 18,
     "metadata": {},
     "output_type": "execute_result"
    }
   ],
   "source": [
    "v1"
   ]
  },
  {
   "cell_type": "code",
   "execution_count": 19,
   "metadata": {},
   "outputs": [
    {
     "data": {
      "text/plain": [
       "Vector(10, 20, 30, 40)"
      ]
     },
     "execution_count": 19,
     "metadata": {},
     "output_type": "execute_result"
    }
   ],
   "source": [
    "v2"
   ]
  },
  {
   "cell_type": "code",
   "execution_count": 20,
   "metadata": {},
   "outputs": [
    {
     "data": {
      "text/plain": [
       "'Vector(1, 2)'"
      ]
     },
     "execution_count": 20,
     "metadata": {},
     "output_type": "execute_result"
    }
   ],
   "source": [
    "str(v1)"
   ]
  },
  {
   "cell_type": "code",
   "execution_count": 21,
   "metadata": {},
   "outputs": [
    {
     "data": {
      "text/plain": [
       "Vector(1, 2)"
      ]
     },
     "execution_count": 21,
     "metadata": {},
     "output_type": "execute_result"
    }
   ],
   "source": [
    "class VectorDimensionMismatch(TypeError):\n",
    "    pass\n",
    "\n",
    "class Vector:\n",
    "    def __init__(self, *components):\n",
    "        if len(components) < 1:\n",
    "            raise ValueError(\"Cannot create an empty Vector.\")\n",
    "        for component in components:\n",
    "            if not isinstance(component, Real):\n",
    "                raise ValueError(f\"Vector component must be all real numbers. {component} is invalid.\")\n",
    "\n",
    "        self._components = tuple(components)\n",
    "\n",
    "    def __len__(self):\n",
    "        return len(self._components)\n",
    "\n",
    "    @property\n",
    "    def components(self):\n",
    "        return self._components\n",
    "\n",
    "    def __repr__(self):\n",
    "        return f\"Vector{self.components}\"\n",
    "    \n",
    "    def validate_type_and_dimension(self, v):\n",
    "        return isinstance(v, Vector) and len(v) == len(self)\n",
    "\n",
    "    def __add__(self, other):\n",
    "        if not self.validate_type_and_dimension(other):\n",
    "            return NotImplemented\n",
    "        components = (x + y for x, y in zip(self.components, other.components))\n",
    "        return Vector(*components)\n",
    "    \n",
    "    def __sub__(self, other):\n",
    "        if not self.validate_type_and_dimension(other):\n",
    "            return NotImplemented\n",
    "        components = (x - y for x, y in zip(self.components, other.components))\n",
    "        return Vector(*components)\n",
    "    \n",
    "\n",
    "v1 = Vector(1, 2)\n",
    "v2 = Vector(10, 10)\n",
    "v3 = Vector(1, 2, 3, 4)\n",
    "\n",
    "v1"
   ]
  },
  {
   "cell_type": "code",
   "execution_count": 22,
   "metadata": {},
   "outputs": [
    {
     "data": {
      "text/plain": [
       "Vector(11, 12)"
      ]
     },
     "execution_count": 22,
     "metadata": {},
     "output_type": "execute_result"
    }
   ],
   "source": [
    "v1 + v2"
   ]
  },
  {
   "cell_type": "code",
   "execution_count": 23,
   "metadata": {},
   "outputs": [
    {
     "name": "stdout",
     "output_type": "stream",
     "text": [
      "unsupported operand type(s) for +: 'Vector' and 'Vector'\n"
     ]
    }
   ],
   "source": [
    "try:\n",
    "    v1 + v3\n",
    "except TypeError as ex:\n",
    "    print(ex)"
   ]
  },
  {
   "cell_type": "code",
   "execution_count": 24,
   "metadata": {},
   "outputs": [
    {
     "data": {
      "text/plain": [
       "Vector(11, 12)"
      ]
     },
     "execution_count": 24,
     "metadata": {},
     "output_type": "execute_result"
    }
   ],
   "source": [
    "v2 + v1"
   ]
  },
  {
   "cell_type": "code",
   "execution_count": 25,
   "metadata": {},
   "outputs": [
    {
     "data": {
      "text/plain": [
       "Vector(11, 12)"
      ]
     },
     "execution_count": 25,
     "metadata": {},
     "output_type": "execute_result"
    }
   ],
   "source": [
    "v2 + v1"
   ]
  },
  {
   "cell_type": "code",
   "execution_count": 26,
   "metadata": {},
   "outputs": [
    {
     "name": "stdout",
     "output_type": "stream",
     "text": [
      "unsupported operand type(s) for +: 'Vector' and 'Vector'\n"
     ]
    }
   ],
   "source": [
    "try:\n",
    "    v1 + v3\n",
    "except TypeError as ex:\n",
    "    print(ex)"
   ]
  },
  {
   "cell_type": "code",
   "execution_count": null,
   "metadata": {},
   "outputs": [],
   "source": []
  },
  {
   "cell_type": "code",
   "execution_count": 27,
   "metadata": {},
   "outputs": [
    {
     "name": "stdout",
     "output_type": "stream",
     "text": [
      "__mul__ called...\n"
     ]
    },
    {
     "data": {
      "text/plain": [
       "Vector(10, 20)"
      ]
     },
     "execution_count": 27,
     "metadata": {},
     "output_type": "execute_result"
    }
   ],
   "source": [
    "class VectorDimensionMismatch(TypeError):\n",
    "    pass\n",
    "\n",
    "class Vector:\n",
    "    def __init__(self, *components):\n",
    "        if len(components) < 1:\n",
    "            raise ValueError(\"Cannot create an empty Vector.\")\n",
    "        for component in components:\n",
    "            if not isinstance(component, Real):\n",
    "                raise ValueError(f\"Vector component must be all real numbers. {component} is invalid.\")\n",
    "\n",
    "        self._components = tuple(components)\n",
    "\n",
    "    def __len__(self):\n",
    "        return len(self._components)\n",
    "\n",
    "    @property\n",
    "    def components(self):\n",
    "        return self._components\n",
    "\n",
    "    def __repr__(self):\n",
    "        return f\"Vector{self.components}\"\n",
    "    \n",
    "    def validate_type_and_dimension(self, v):\n",
    "        return isinstance(v, Vector) and len(v) == len(self)\n",
    "\n",
    "    def __add__(self, other):\n",
    "        if not self.validate_type_and_dimension(other):\n",
    "            return NotImplemented\n",
    "        components = (x + y for x, y in zip(self.components, other.components))\n",
    "        return Vector(*components)\n",
    "    \n",
    "    def __sub__(self, other):\n",
    "        if not self.validate_type_and_dimension(other):\n",
    "            return NotImplemented\n",
    "        components = (x - y for x, y in zip(self.components, other.components))\n",
    "        return Vector(*components)\n",
    "    \n",
    "    def __mul__(self, other):\n",
    "        print(\"__mul__ called...\")\n",
    "        if not isinstance(other, Real):\n",
    "            return NotImplemented\n",
    "        \n",
    "        components = (other * x for x in self.components)\n",
    "        return Vector(*components)\n",
    "    \n",
    "\n",
    "v1 = Vector(1, 2)\n",
    "v2 = Vector(10, 10)\n",
    "v3 = Vector(1, 2, 3, 4)\n",
    "\n",
    "v1 * 10"
   ]
  },
  {
   "cell_type": "code",
   "execution_count": 28,
   "metadata": {},
   "outputs": [
    {
     "name": "stdout",
     "output_type": "stream",
     "text": [
      "__mul__ called...\n"
     ]
    },
    {
     "data": {
      "text/plain": [
       "Vector(10, 20)"
      ]
     },
     "execution_count": 28,
     "metadata": {},
     "output_type": "execute_result"
    }
   ],
   "source": [
    "v1.__mul__(10)"
   ]
  },
  {
   "cell_type": "code",
   "execution_count": 29,
   "metadata": {},
   "outputs": [
    {
     "ename": "TypeError",
     "evalue": "unsupported operand type(s) for *: 'int' and 'Vector'",
     "output_type": "error",
     "traceback": [
      "\u001b[1;31m---------------------------------------------------------------------------\u001b[0m",
      "\u001b[1;31mTypeError\u001b[0m                                 Traceback (most recent call last)",
      "Cell \u001b[1;32mIn[29], line 1\u001b[0m\n\u001b[1;32m----> 1\u001b[0m \u001b[38;5;241;43m10\u001b[39;49m\u001b[43m \u001b[49m\u001b[38;5;241;43m*\u001b[39;49m\u001b[43m \u001b[49m\u001b[43mv1\u001b[49m\n",
      "\u001b[1;31mTypeError\u001b[0m: unsupported operand type(s) for *: 'int' and 'Vector'"
     ]
    }
   ],
   "source": [
    "10 * v1"
   ]
  },
  {
   "cell_type": "code",
   "execution_count": 30,
   "metadata": {},
   "outputs": [
    {
     "name": "stdout",
     "output_type": "stream",
     "text": [
      "__mul__ called...\n"
     ]
    },
    {
     "data": {
      "text/plain": [
       "Vector(10, 20)"
      ]
     },
     "execution_count": 30,
     "metadata": {},
     "output_type": "execute_result"
    }
   ],
   "source": [
    "class VectorDimensionMismatch(TypeError):\n",
    "    pass\n",
    "\n",
    "class Vector:\n",
    "    def __init__(self, *components):\n",
    "        if len(components) < 1:\n",
    "            raise ValueError(\"Cannot create an empty Vector.\")\n",
    "        for component in components:\n",
    "            if not isinstance(component, Real):\n",
    "                raise ValueError(f\"Vector component must be all real numbers. {component} is invalid.\")\n",
    "\n",
    "        self._components = tuple(components)\n",
    "\n",
    "    def __len__(self):\n",
    "        return len(self._components)\n",
    "\n",
    "    @property\n",
    "    def components(self):\n",
    "        return self._components\n",
    "\n",
    "    def __repr__(self):\n",
    "        return f\"Vector{self.components}\"\n",
    "    \n",
    "    def validate_type_and_dimension(self, v):\n",
    "        return isinstance(v, Vector) and len(v) == len(self)\n",
    "\n",
    "    def __add__(self, other):\n",
    "        if not self.validate_type_and_dimension(other):\n",
    "            return NotImplemented\n",
    "        components = (x + y for x, y in zip(self.components, other.components))\n",
    "        return Vector(*components)\n",
    "    \n",
    "    def __sub__(self, other):\n",
    "        if not self.validate_type_and_dimension(other):\n",
    "            return NotImplemented\n",
    "        components = (x - y for x, y in zip(self.components, other.components))\n",
    "        return Vector(*components)\n",
    "    \n",
    "    def __mul__(self, other):\n",
    "        print(\"__mul__ called...\")\n",
    "        if not isinstance(other, Real):\n",
    "            return NotImplemented\n",
    "        \n",
    "        components = (other * x for x in self.components)\n",
    "        return Vector(*components)\n",
    "    \n",
    "    def __rmul__(self, other):\n",
    "        print(\"__rmul__ called...\")\n",
    "        return self * other\n",
    "    \n",
    "\n",
    "v1 = Vector(1, 2)\n",
    "v1 * 10"
   ]
  },
  {
   "cell_type": "code",
   "execution_count": 31,
   "metadata": {},
   "outputs": [
    {
     "name": "stdout",
     "output_type": "stream",
     "text": [
      "__rmul__ called...\n",
      "__mul__ called...\n"
     ]
    },
    {
     "data": {
      "text/plain": [
       "Vector(10, 20)"
      ]
     },
     "execution_count": 31,
     "metadata": {},
     "output_type": "execute_result"
    }
   ],
   "source": [
    "10 * v1"
   ]
  },
  {
   "cell_type": "code",
   "execution_count": 33,
   "metadata": {},
   "outputs": [
    {
     "name": "stdout",
     "output_type": "stream",
     "text": [
      "__matmul__ called...\n"
     ]
    }
   ],
   "source": [
    "class VectorDimensionMismatch(TypeError):\n",
    "    pass\n",
    "\n",
    "class Vector:\n",
    "    def __init__(self, *components):\n",
    "        if len(components) < 1:\n",
    "            raise ValueError(\"Cannot create an empty Vector.\")\n",
    "        for component in components:\n",
    "            if not isinstance(component, Real):\n",
    "                raise ValueError(f\"Vector component must be all real numbers. {component} is invalid.\")\n",
    "\n",
    "        self._components = tuple(components)\n",
    "\n",
    "    def __len__(self):\n",
    "        return len(self._components)\n",
    "\n",
    "    @property\n",
    "    def components(self):\n",
    "        return self._components\n",
    "\n",
    "    def __repr__(self):\n",
    "        return f\"Vector{self.components}\"\n",
    "    \n",
    "    def validate_type_and_dimension(self, v):\n",
    "        return isinstance(v, Vector) and len(v) == len(self)\n",
    "\n",
    "    def __add__(self, other):\n",
    "        if not self.validate_type_and_dimension(other):\n",
    "            return NotImplemented\n",
    "        components = (x + y for x, y in zip(self.components, other.components))\n",
    "        return Vector(*components)\n",
    "    \n",
    "    def __sub__(self, other):\n",
    "        if not self.validate_type_and_dimension(other):\n",
    "            return NotImplemented\n",
    "        components = (x - y for x, y in zip(self.components, other.components))\n",
    "        return Vector(*components)\n",
    "    \n",
    "    def __mul__(self, other):\n",
    "        print(\"__mul__ called...\")\n",
    "        if isinstance(other, Real):\n",
    "            components = (other * x for x in self.components)\n",
    "            return Vector(*components)\n",
    "        if self.validate_type_and_dimension(other):\n",
    "            components = (x * y for x, y in zip(self.components, other.components))\n",
    "            return sum(components)\n",
    "        return NotImplemented\n",
    "    \n",
    "    def __rmul__(self, other):\n",
    "        print(\"__rmul__ called...\")\n",
    "        return self * other\n",
    "    \n",
    "\n",
    "    def __matmul__(self, other):\n",
    "        print(\"__matmul__ called...\")\n",
    "    \n",
    "\n",
    "v1 = Vector(1, 2)\n",
    "v2 = Vector(3, 4)\n",
    "\n",
    "v1 @ v2"
   ]
  },
  {
   "cell_type": "code",
   "execution_count": 47,
   "metadata": {},
   "outputs": [
    {
     "name": "stdout",
     "output_type": "stream",
     "text": [
      "2772986796816\n",
      "__iadd__ called...\n",
      "2772986796816 Vector(11, 12)\n"
     ]
    }
   ],
   "source": [
    "class Vector:\n",
    "    def __init__(self, *components):\n",
    "        if len(components) < 1:\n",
    "            raise ValueError(\"Cannot create an empty Vector.\")\n",
    "        for component in components:\n",
    "            if not isinstance(component, Real):\n",
    "                raise ValueError(f\"Vector component must be all real numbers. {component} is invalid.\")\n",
    "\n",
    "        self._components = tuple(components)\n",
    "\n",
    "    def __len__(self):\n",
    "        return len(self._components)\n",
    "\n",
    "    @property\n",
    "    def components(self):\n",
    "        return self._components\n",
    "\n",
    "    def __repr__(self):\n",
    "        return f\"Vector{self.components}\"\n",
    "    \n",
    "    def validate_type_and_dimension(self, v):\n",
    "        return isinstance(v, Vector) and len(v) == len(self)\n",
    "\n",
    "    def __add__(self, other):\n",
    "        if not self.validate_type_and_dimension(other):\n",
    "            return NotImplemented\n",
    "        components = (x + y for x, y in zip(self.components, other.components))\n",
    "        return Vector(*components)\n",
    "    \n",
    "    def __sub__(self, other):\n",
    "        if not self.validate_type_and_dimension(other):\n",
    "            return NotImplemented\n",
    "        components = (x - y for x, y in zip(self.components, other.components))\n",
    "        return Vector(*components)\n",
    "    \n",
    "    def __mul__(self, other):\n",
    "        print(\"__mul__ called...\")\n",
    "        if isinstance(other, Real):\n",
    "            components = (other * x for x in self.components)\n",
    "            return Vector(*components)\n",
    "        if self.validate_type_and_dimension(other):\n",
    "            components = (x * y for x, y in zip(self.components, other.components))\n",
    "            return sum(components)\n",
    "        return NotImplemented\n",
    "    \n",
    "    def __rmul__(self, other):\n",
    "        print(\"__rmul__ called...\")\n",
    "        return self * other\n",
    "    \n",
    "\n",
    "    def __matmul__(self, other):\n",
    "        print(\"__matmul__ called...\")\n",
    "    \n",
    "\n",
    "    def __iadd__(self, other):\n",
    "        print(\"__iadd__ called...\")\n",
    "        if self.validate_type_and_dimension(other):\n",
    "            components = (x + y for x, y in zip(self.components, other.components))\n",
    "            self._components = tuple(components)\n",
    "            return self\n",
    "        return NotImplemented\n",
    "    \n",
    "    \n",
    "v1 = Vector(1, 2)\n",
    "v2 = Vector(10, 10)\n",
    "\n",
    "print(id(v1))\n",
    "v1 += v2\n",
    "print(id(v1), v1)"
   ]
  },
  {
   "cell_type": "code",
   "execution_count": 48,
   "metadata": {},
   "outputs": [
    {
     "data": {
      "text/plain": [
       "2772997529296"
      ]
     },
     "execution_count": 48,
     "metadata": {},
     "output_type": "execute_result"
    }
   ],
   "source": [
    "class Vector:\n",
    "    def __init__(self, *components):\n",
    "        if len(components) < 1:\n",
    "            raise ValueError(\"Cannot create an empty Vector.\")\n",
    "        for component in components:\n",
    "            if not isinstance(component, Real):\n",
    "                raise ValueError(f\"Vector component must be all real numbers. {component} is invalid.\")\n",
    "\n",
    "        self._components = tuple(components)\n",
    "\n",
    "    def __len__(self):\n",
    "        return len(self._components)\n",
    "\n",
    "    @property\n",
    "    def components(self):\n",
    "        return self._components\n",
    "\n",
    "    def __repr__(self):\n",
    "        return f\"Vector{self.components}\"\n",
    "    \n",
    "    def validate_type_and_dimension(self, v):\n",
    "        return isinstance(v, Vector) and len(v) == len(self)\n",
    "\n",
    "    def __add__(self, other):\n",
    "        if not self.validate_type_and_dimension(other):\n",
    "            return NotImplemented\n",
    "        components = (x + y for x, y in zip(self.components, other.components))\n",
    "        return Vector(*components)\n",
    "    \n",
    "    def __sub__(self, other):\n",
    "        if not self.validate_type_and_dimension(other):\n",
    "            return NotImplemented\n",
    "        components = (x - y for x, y in zip(self.components, other.components))\n",
    "        return Vector(*components)\n",
    "    \n",
    "    def __mul__(self, other):\n",
    "        print(\"__mul__ called...\")\n",
    "        if isinstance(other, Real):\n",
    "            components = (other * x for x in self.components)\n",
    "            return Vector(*components)\n",
    "        if self.validate_type_and_dimension(other):\n",
    "            components = (x * y for x, y in zip(self.components, other.components))\n",
    "            return sum(components)\n",
    "        return NotImplemented\n",
    "    \n",
    "    def __rmul__(self, other):\n",
    "        print(\"__rmul__ called...\")\n",
    "        return self * other\n",
    "    \n",
    "\n",
    "    def __matmul__(self, other):\n",
    "        print(\"__matmul__ called...\")\n",
    "    \n",
    "\n",
    "    def __iadd__(self, other):\n",
    "        print(\"__iadd__ called...\")\n",
    "        if self.validate_type_and_dimension(other):\n",
    "            components = (x + y for x, y in zip(self.components, other.components))\n",
    "            self._components = tuple(components)\n",
    "            return self\n",
    "        return NotImplemented\n",
    "    \n",
    "\n",
    "    def __neg__(self):\n",
    "        print(\"__neg__ called\")\n",
    "        components = (-x for x in self.components)\n",
    "        return Vector(*components)\n",
    "    \n",
    "\n",
    "v1 = Vector(1, 2)\n",
    "id(v1)"
   ]
  },
  {
   "cell_type": "code",
   "execution_count": 49,
   "metadata": {},
   "outputs": [
    {
     "name": "stdout",
     "output_type": "stream",
     "text": [
      "__neg__ called\n"
     ]
    }
   ],
   "source": [
    "v2 = -v1"
   ]
  },
  {
   "cell_type": "code",
   "execution_count": 50,
   "metadata": {},
   "outputs": [
    {
     "data": {
      "text/plain": [
       "2772985990480"
      ]
     },
     "execution_count": 50,
     "metadata": {},
     "output_type": "execute_result"
    }
   ],
   "source": [
    "id(v2)"
   ]
  },
  {
   "cell_type": "code",
   "execution_count": 51,
   "metadata": {},
   "outputs": [
    {
     "name": "stdout",
     "output_type": "stream",
     "text": [
      "__neg__ called\n"
     ]
    },
    {
     "data": {
      "text/plain": [
       "Vector(-2, -4)"
      ]
     },
     "execution_count": 51,
     "metadata": {},
     "output_type": "execute_result"
    }
   ],
   "source": [
    "v2 + -v1"
   ]
  },
  {
   "cell_type": "code",
   "execution_count": 53,
   "metadata": {},
   "outputs": [
    {
     "data": {
      "text/plain": [
       "1.4142135623730951"
      ]
     },
     "execution_count": 53,
     "metadata": {},
     "output_type": "execute_result"
    }
   ],
   "source": [
    "class Vector:\n",
    "    def __init__(self, *components):\n",
    "        if len(components) < 1:\n",
    "            raise ValueError(\"Cannot create an empty Vector.\")\n",
    "        for component in components:\n",
    "            if not isinstance(component, Real):\n",
    "                raise ValueError(f\"Vector component must be all real numbers. {component} is invalid.\")\n",
    "\n",
    "        self._components = tuple(components)\n",
    "\n",
    "    def __len__(self):\n",
    "        return len(self._components)\n",
    "\n",
    "    @property\n",
    "    def components(self):\n",
    "        return self._components\n",
    "\n",
    "    def __repr__(self):\n",
    "        return f\"Vector{self.components}\"\n",
    "    \n",
    "    def validate_type_and_dimension(self, v):\n",
    "        return isinstance(v, Vector) and len(v) == len(self)\n",
    "\n",
    "    def __add__(self, other):\n",
    "        if not self.validate_type_and_dimension(other):\n",
    "            return NotImplemented\n",
    "        components = (x + y for x, y in zip(self.components, other.components))\n",
    "        return Vector(*components)\n",
    "    \n",
    "    def __sub__(self, other):\n",
    "        if not self.validate_type_and_dimension(other):\n",
    "            return NotImplemented\n",
    "        components = (x - y for x, y in zip(self.components, other.components))\n",
    "        return Vector(*components)\n",
    "    \n",
    "    def __mul__(self, other):\n",
    "        print(\"__mul__ called...\")\n",
    "        if isinstance(other, Real):\n",
    "            components = (other * x for x in self.components)\n",
    "            return Vector(*components)\n",
    "        if self.validate_type_and_dimension(other):\n",
    "            components = (x * y for x, y in zip(self.components, other.components))\n",
    "            return sum(components)\n",
    "        return NotImplemented\n",
    "    \n",
    "    def __rmul__(self, other):\n",
    "        print(\"__rmul__ called...\")\n",
    "        return self * other\n",
    "    \n",
    "\n",
    "    def __matmul__(self, other):\n",
    "        print(\"__matmul__ called...\")\n",
    "    \n",
    "\n",
    "    def __iadd__(self, other):\n",
    "        print(\"__iadd__ called...\")\n",
    "        if self.validate_type_and_dimension(other):\n",
    "            components = (x + y for x, y in zip(self.components, other.components))\n",
    "            self._components = tuple(components)\n",
    "            return self\n",
    "        return NotImplemented\n",
    "    \n",
    "\n",
    "    def __neg__(self):\n",
    "        print(\"__neg__ called\")\n",
    "        components = (-x for x in self.components)\n",
    "        return Vector(*components)\n",
    "    \n",
    "    def __abs__(self):\n",
    "        from math import sqrt\n",
    "        return sqrt(sum(x**2 for x in self.components))\n",
    "\n",
    "v1 = Vector(1, 1)\n",
    "abs(v1)"
   ]
  },
  {
   "cell_type": "code",
   "execution_count": 54,
   "metadata": {},
   "outputs": [],
   "source": [
    "class Person:\n",
    "    def __init__(self, name):\n",
    "        self.name = name\n",
    "\n",
    "    def __repr__(self):\n",
    "        return f\"Person('{self.name}')\"\n",
    "    \n",
    "p1 = Person(\"John\")"
   ]
  },
  {
   "cell_type": "code",
   "execution_count": 55,
   "metadata": {},
   "outputs": [
    {
     "data": {
      "text/plain": [
       "Person('John')"
      ]
     },
     "execution_count": 55,
     "metadata": {},
     "output_type": "execute_result"
    }
   ],
   "source": [
    "p1"
   ]
  },
  {
   "cell_type": "code",
   "execution_count": 56,
   "metadata": {},
   "outputs": [
    {
     "data": {
      "text/plain": [
       "(Person('Mary'), Person('John'), [])"
      ]
     },
     "execution_count": 56,
     "metadata": {},
     "output_type": "execute_result"
    }
   ],
   "source": [
    "class Family:\n",
    "    def __init__(self, mother, father):\n",
    "        self.mother = mother\n",
    "        self.father = father\n",
    "        self.children = []\n",
    "\n",
    "    def __iadd__(self, other):\n",
    "        self.children.append(other)\n",
    "        return self\n",
    "    \n",
    "\n",
    "f = Family(Person(\"Mary\"), Person(\"John\"))\n",
    "\n",
    "f.mother, f.father, f.children"
   ]
  },
  {
   "cell_type": "code",
   "execution_count": 57,
   "metadata": {},
   "outputs": [],
   "source": [
    "f += Person(\"Eric\")"
   ]
  },
  {
   "cell_type": "code",
   "execution_count": 59,
   "metadata": {},
   "outputs": [
    {
     "data": {
      "text/plain": [
       "[Person('Eric')]"
      ]
     },
     "execution_count": 59,
     "metadata": {},
     "output_type": "execute_result"
    }
   ],
   "source": [
    "f.children"
   ]
  },
  {
   "cell_type": "code",
   "execution_count": 60,
   "metadata": {},
   "outputs": [],
   "source": [
    "f += Person(\"Michael\")"
   ]
  },
  {
   "cell_type": "code",
   "execution_count": 61,
   "metadata": {},
   "outputs": [
    {
     "data": {
      "text/plain": [
       "[Person('Eric'), Person('Michael')]"
      ]
     },
     "execution_count": 61,
     "metadata": {},
     "output_type": "execute_result"
    }
   ],
   "source": [
    "f.children"
   ]
  },
  {
   "cell_type": "code",
   "execution_count": null,
   "metadata": {},
   "outputs": [],
   "source": []
  },
  {
   "cell_type": "code",
   "execution_count": null,
   "metadata": {},
   "outputs": [],
   "source": []
  },
  {
   "cell_type": "code",
   "execution_count": null,
   "metadata": {},
   "outputs": [],
   "source": []
  }
 ],
 "metadata": {
  "kernelspec": {
   "display_name": "llms",
   "language": "python",
   "name": "python3"
  },
  "language_info": {
   "codemirror_mode": {
    "name": "ipython",
    "version": 3
   },
   "file_extension": ".py",
   "mimetype": "text/x-python",
   "name": "python",
   "nbconvert_exporter": "python",
   "pygments_lexer": "ipython3",
   "version": "3.11.11"
  }
 },
 "nbformat": 4,
 "nbformat_minor": 2
}
